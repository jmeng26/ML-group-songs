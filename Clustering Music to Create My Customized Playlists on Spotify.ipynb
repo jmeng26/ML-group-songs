{
 "cells": [
  {
   "cell_type": "markdown",
   "id": "6905b89a",
   "metadata": {},
   "source": [
    "# Project: Clustering Music to Create My Customized Playlists on Spotify Using Python and R -- An easy way to group songs by similarity on Spotify Playlists with K-Means.\n",
    "\n",
    "**Background:** Spotify is one of the most famous Music Platforms to discover new music. The company uses a lot of different algorithms to recommend the user new music based on their music preferences and most of these recommendations are located in Playlists. These Playlists are created for different users based on a wide diversity of music genres and even Spotify is capable to recommend new music based on moods. Music has been in my daily routine all my life, It’s a kind of drug that I need when I’m doing housework, working, workouts, and so on. Basically, I'm playing it all the time. I have a lot of music on Spotify that I always wanted to separate according to the similarities of the songs and save them into different playlists that I can play the specific playlists based on my mood or my requirements.\n",
    "\n",
    "**Objective:** Use Spotify API and K-Means to download my song list and group songs by similarity then create my customized playlists.\n",
    "\n",
    "**Hypothesis:** The simplest way is to groups songs for the energetic group and relaxed group. Based on their feature we can categorize my song list into two groups.\n",
    "\n",
    "**Tools Used:** Python Pandas, Numpy for data analysis; Sklearn to build the Machine Learning model; Spotipy Python Library; Spotify Credentials to access Api Database and Playlists Modify, Matplotlib\n",
    "\n",
    "**Skills Demonstrated:** Web Scraping, Data Cleaning, Exploratory Data Analysis, Machine Learning(K-Means), Data Visualization"
   ]
  },
  {
   "cell_type": "markdown",
   "id": "047fe504",
   "metadata": {},
   "source": [
    "#### Spotify Audio Features: Spotify uses a series of different features to classify the tracks. \n",
    "\n",
    "**Acousticness:** A confidence measure from 0.0 to 1.0 of whether the track is acoustic. 1.0 represents high confidence the track is acoustic.\n",
    "\n",
    "**Danceability:** Danceability describes how suitable a track is for dancing based on a combination of musical elements including tempo, rhythm stability, beat strength, and overall regularity. A value of 0.0 is least danceable and 1.0 is most danceable.\n",
    "\n",
    "**Energy:** Energy is a measure from 0.0 to 1.0 and represents a perceptual measure of intensity and activity. Typically, energetic tracks feel fast, loud, and noisy. For example, death metal has high energy, while a Bach prelude scores low on the scale. Perceptual features contributing to this attribute include dynamic range, perceived loudness, timbre, onset rate, and general entropy.\n",
    "\n",
    "**Instrumentalness:** Predicts whether a track contains no vocals. “Ooh” and “aah” sounds are treated as instrumental in this context. Rap or spoken word tracks are clearly “vocal”. The closer the instrumentalness value is to 1.0, the greater likelihood the track contains no vocal content. Values above 0.5 are intended to represent instrumental tracks, but confidence is higher as the value approaches 1.0.\n",
    "\n",
    "**Liveness:** Detects the presence of an audience in the recording. Higher liveness values represent an increased probability that the track was performed live. A value above 0.8 provides a strong likelihood that the track is live.\n",
    "\n",
    "**Loudness:** the overall loudness of a track in decibels (dB). Loudness values are averaged across the entire track and are useful for comparing the relative loudness of tracks. Loudness is the quality of a sound that is the primary psychological correlate of physical strength (amplitude). Values typically range between -60 and 0 db.\n",
    "\n",
    "**Speechiness:** Speechiness detects the presence of spoken words in a track. The more exclusively speech-like the recording (e.g. talk show, audiobook, poetry), the closer to 1.0 the attribute value. Values above 0.66 describe tracks that are probably made entirely of spoken words. Values between 0.33 and 0.66 describe tracks that may contain both music and speech, either in sections or layered, including such cases as rap music. Values below 0.33 most likely represent music and other non-speech-like tracks.\n",
    "\n",
    "**Valence:** A measure from 0.0 to 1.0 describing the musical positiveness conveyed by a track. Tracks with high valence sound more positive (e.g. happy, cheerful, euphoric), while tracks with low valence sound more negative (e.g. sad, depressed, angry).\n",
    "\n",
    "**Tempo:** The overall estimated tempo of a track in beats per minute (BPM). In musical terminology, the tempo is the speed or pace of a given piece and derives directly from the average beat duration.\n",
    "\n",
    "For information reduction purposes I decided to use the features of Loudness, Valence, Energy, and Danceability because they have more influence to differentiate between Energetic and Relaxed songs."
   ]
  },
  {
   "cell_type": "markdown",
   "id": "80ba78a4",
   "metadata": {},
   "source": [
    "# Part 1. Obtaining and Analysing the Data"
   ]
  },
  {
   "cell_type": "markdown",
   "id": "bab5ce80",
   "metadata": {},
   "source": [
    "## Get Data From Spotify API"
   ]
  },
  {
   "cell_type": "markdown",
   "id": "b0424948",
   "metadata": {},
   "source": [
    "I have a playlist that I have added several favorite band like New Order, Japenese Breakfast and so on, this playlist include different kind of type of music which I liked from different albums so I decided to obtain this playlist and all the music included.\n",
    "Using the Spotipy Library I created some functions to download all the songs in this playlist."
   ]
  },
  {
   "cell_type": "code",
   "execution_count": 1,
   "id": "c718b414",
   "metadata": {},
   "outputs": [],
   "source": [
    "import spotipy\n",
    "import time\n",
    "from IPython.core.display import clear_output\n",
    "from spotipy import SpotifyClientCredentials, util"
   ]
  },
  {
   "cell_type": "code",
   "execution_count": 2,
   "id": "82a2afee",
   "metadata": {},
   "outputs": [],
   "source": [
    "client_id='my_client_id'\n",
    "client_secret='my_client_secret'\n",
    "redirect_uri='my_redirect_uri'\n",
    "username = 'my_username'\n",
    "scope = 'playlist-modify-public'"
   ]
  },
  {
   "cell_type": "code",
   "execution_count": 3,
   "id": "5e942430",
   "metadata": {},
   "outputs": [],
   "source": [
    "#Credentials to access the Spotify Music Data\n",
    "manager = SpotifyClientCredentials(client_id,client_secret)\n",
    "sp = spotipy.Spotify(client_credentials_manager=manager)\n",
    "\n",
    "#Credentials to access to  the Spotify User's Playlist, Favorite Songs, etc. \n",
    "token = util.prompt_for_user_token(username,scope,client_id,client_secret,redirect_uri) \n",
    "spt = spotipy.Spotify(auth=token)"
   ]
  },
  {
   "cell_type": "code",
   "execution_count": 4,
   "id": "17ccd089",
   "metadata": {},
   "outputs": [],
   "source": [
    "def get_albums_id(ids):\n",
    "    album_ids = []\n",
    "    results = sp.artist_albums(ids)\n",
    "    for album in results['items']:\n",
    "        album_ids.append(album['id'])\n",
    "    return album_ids\n",
    "\n",
    "def get_album_songs_id(ids):\n",
    "    song_ids = []\n",
    "    results = sp.album_tracks(ids,offset=0)\n",
    "    for songs in results['items']:\n",
    "        song_ids.append(songs['id'])\n",
    "    return song_ids\n",
    "\n",
    "def get_songs_features(ids):\n",
    "\n",
    "    meta = sp.track(ids)\n",
    "    features = sp.audio_features(ids)\n",
    "\n",
    "    # meta\n",
    "    name = meta['name']\n",
    "    album = meta['album']['name']\n",
    "    artist = meta['album']['artists'][0]['name']\n",
    "    release_date = meta['album']['release_date']\n",
    "    length = meta['duration_ms']\n",
    "    popularity = meta['popularity']\n",
    "    ids =  meta['id']\n",
    "\n",
    "    # features\n",
    "    acousticness = features[0]['acousticness']\n",
    "    danceability = features[0]['danceability']\n",
    "    energy = features[0]['energy']\n",
    "    instrumentalness = features[0]['instrumentalness']\n",
    "    liveness = features[0]['liveness']\n",
    "    valence = features[0]['valence']\n",
    "    loudness = features[0]['loudness']\n",
    "    speechiness = features[0]['speechiness']\n",
    "    tempo = features[0]['tempo']\n",
    "    key = features[0]['key']\n",
    "    time_signature = features[0]['time_signature']\n",
    "\n",
    "    track = [name, album, artist, ids, release_date, popularity, length, danceability, acousticness,\n",
    "            energy, instrumentalness, liveness, valence, loudness, speechiness, tempo, key, time_signature]\n",
    "    columns = ['name','album','artist','id','release_date','popularity','length','danceability','acousticness','energy','instrumentalness',\n",
    "                'liveness','valence','loudness','speechiness','tempo','key','time_signature']\n",
    "    return track,columns\n",
    "\n",
    "def get_songs_artist_ids_playlist(ids):\n",
    "    playlist = sp.playlist_tracks(ids)\n",
    "    songs_id = []\n",
    "    artists_id = []\n",
    "    for result in playlist['items']:\n",
    "        songs_id.append(result['track']['id'])\n",
    "        for artist in result['track']['artists']:\n",
    "            artists_id.append(artist['id'])\n",
    "    return songs_id,artists_id\n",
    "\n",
    "def download_albums(music_id,artist=False):\n",
    "    \n",
    "    if artist == True:\n",
    "        ids_album = get_albums_id(music_id)\n",
    "    else:\n",
    "        if type(music_id) == list:\n",
    "            ids_album = music_id\n",
    "        elif type(music_id) == str:\n",
    "            ids_album = list([music_id])\n",
    "\n",
    "    tracks = []\n",
    "    for ids in ids_album:\n",
    "        #Obtener Ids de canciones en album\n",
    "        song_ids = get_album_songs_id(ids=ids)\n",
    "        #Obtener feautres de canciones en album\n",
    "        ids2 = song_ids\n",
    "        \n",
    "        print(f\"Album Length: {len(song_ids)}\")\n",
    "         \n",
    "        time.sleep(.6)   \n",
    "        track, columns = get_songs_features(ids2)\n",
    "        tracks.append(track)\n",
    "\n",
    "        print(f\"Song Added: {track[0]} By {track[2]} from the album {track[1]}\")\n",
    "        clear_output(wait = True)\n",
    "        \n",
    "    clear_output(wait = True)\n",
    "    print(\"Music Downloaded!\")\n",
    " \n",
    "    return tracks,columns\n",
    "\n",
    "def download_playlist(id_playlist,n_songs):\n",
    "    songs_id = []\n",
    "    tracks = []\n",
    "\n",
    "    for i in range(0,n_songs,100):\n",
    "        playlist = spt.playlist_tracks(id_playlist,limit=100,offset=i)\n",
    "        \n",
    "        for songs in playlist['items']:\n",
    "            songs_id.append(songs['track']['id'])\n",
    "    \n",
    "    counter = 1\n",
    "    for ids in songs_id:\n",
    "        \n",
    "        time.sleep(.6)\n",
    "        track,columns = get_songs_features(ids)\n",
    "        tracks.append(track)\n",
    "\n",
    "        print(f\"Song {counter} Added:\")\n",
    "        print(f\"{track[0]} By {track[2]} from the album {track[1]}\")\n",
    "        clear_output(wait = True)\n",
    "        counter+=1\n",
    "    \n",
    "    clear_output(wait = True)\n",
    "    print(\"Music Downloaded!\")\n",
    "\n",
    "    return tracks,columns"
   ]
  },
  {
   "cell_type": "markdown",
   "id": "547fc255",
   "metadata": {},
   "source": [
    "## Download Music"
   ]
  },
  {
   "cell_type": "code",
   "execution_count": null,
   "id": "e95837ca",
   "metadata": {},
   "outputs": [],
   "source": [
    "import spotipy\n",
    "from spotipy import SpotifyClientCredentials, util\n",
    "from IPython.core.display import clear_output\n",
    "\n",
    "import pandas as pd \n",
    "import pandasql as ps \n",
    "import time\n",
    "import sqlite3"
   ]
  },
  {
   "cell_type": "code",
   "execution_count": null,
   "id": "1cfbe390",
   "metadata": {},
   "outputs": [],
   "source": [
    "tracks,columns = download_playlist('my_playlist_id',418)\n",
    "#If the id if for artist, you must to put specify True to the artist parameter\n",
    "#tracks,columns = download_albums('4dtfNhI3JHnj27BT0E6uhT',artist=False)\n",
    "df1 = pd.DataFrame(tracks,columns=columns)\n",
    "df1.head()\n",
    "df1.to_csv('df.csv',index=False)"
   ]
  },
  {
   "cell_type": "markdown",
   "id": "074a9370",
   "metadata": {},
   "source": [
    "## Data Analysis "
   ]
  },
  {
   "cell_type": "code",
   "execution_count": 1,
   "id": "7463f2b6",
   "metadata": {},
   "outputs": [],
   "source": [
    "import pandas as pd \n",
    "import numpy as np \n",
    "import matplotlib.pyplot as plt\n",
    "plt.style.use(\"seaborn\")\n",
    "from mpl_toolkits.mplot3d import Axes3D"
   ]
  },
  {
   "cell_type": "code",
   "execution_count": 2,
   "id": "56259f3f",
   "metadata": {},
   "outputs": [],
   "source": [
    "df = pd.read_csv('data/df.csv')\n",
    "df = df[['name','album','artist','id','release_date','popularity','danceability','energy','valence','loudness']]"
   ]
  },
  {
   "cell_type": "code",
   "execution_count": 3,
   "id": "361d7a34",
   "metadata": {},
   "outputs": [
    {
     "name": "stdout",
     "output_type": "stream",
     "text": [
      "<class 'pandas.core.frame.DataFrame'>\n",
      "RangeIndex: 418 entries, 0 to 417\n",
      "Data columns (total 10 columns):\n",
      " #   Column        Non-Null Count  Dtype  \n",
      "---  ------        --------------  -----  \n",
      " 0   name          418 non-null    object \n",
      " 1   album         418 non-null    object \n",
      " 2   artist        418 non-null    object \n",
      " 3   id            418 non-null    object \n",
      " 4   release_date  418 non-null    object \n",
      " 5   popularity    418 non-null    int64  \n",
      " 6   danceability  418 non-null    float64\n",
      " 7   energy        418 non-null    float64\n",
      " 8   valence       418 non-null    float64\n",
      " 9   loudness      418 non-null    float64\n",
      "dtypes: float64(4), int64(1), object(5)\n",
      "memory usage: 32.8+ KB\n"
     ]
    }
   ],
   "source": [
    "df.info()"
   ]
  },
  {
   "cell_type": "code",
   "execution_count": 4,
   "id": "91c35f0d",
   "metadata": {},
   "outputs": [
    {
     "data": {
      "text/html": [
       "<div>\n",
       "<style scoped>\n",
       "    .dataframe tbody tr th:only-of-type {\n",
       "        vertical-align: middle;\n",
       "    }\n",
       "\n",
       "    .dataframe tbody tr th {\n",
       "        vertical-align: top;\n",
       "    }\n",
       "\n",
       "    .dataframe thead th {\n",
       "        text-align: right;\n",
       "    }\n",
       "</style>\n",
       "<table border=\"1\" class=\"dataframe\">\n",
       "  <thead>\n",
       "    <tr style=\"text-align: right;\">\n",
       "      <th></th>\n",
       "      <th>name</th>\n",
       "      <th>album</th>\n",
       "      <th>artist</th>\n",
       "      <th>id</th>\n",
       "      <th>release_date</th>\n",
       "      <th>popularity</th>\n",
       "      <th>danceability</th>\n",
       "      <th>energy</th>\n",
       "      <th>valence</th>\n",
       "      <th>loudness</th>\n",
       "    </tr>\n",
       "  </thead>\n",
       "  <tbody>\n",
       "    <tr>\n",
       "      <th>0</th>\n",
       "      <td>Blue Monday</td>\n",
       "      <td>Substance</td>\n",
       "      <td>New Order</td>\n",
       "      <td>6hHc7Pks7wtBIW8Z6A0iFq</td>\n",
       "      <td>1987-08-17</td>\n",
       "      <td>73</td>\n",
       "      <td>0.762</td>\n",
       "      <td>0.651</td>\n",
       "      <td>0.941</td>\n",
       "      <td>-13.340</td>\n",
       "    </tr>\n",
       "    <tr>\n",
       "      <th>1</th>\n",
       "      <td>Bizarre Love Triangle</td>\n",
       "      <td>Brotherhood (Collector's Edition)</td>\n",
       "      <td>New Order</td>\n",
       "      <td>6wVViUl2xSRoDK2T7dMZbR</td>\n",
       "      <td>1986-09-29</td>\n",
       "      <td>67</td>\n",
       "      <td>0.613</td>\n",
       "      <td>0.885</td>\n",
       "      <td>0.919</td>\n",
       "      <td>-7.463</td>\n",
       "    </tr>\n",
       "    <tr>\n",
       "      <th>2</th>\n",
       "      <td>World in Motion - 2011 Total Version</td>\n",
       "      <td>TOTAL</td>\n",
       "      <td>New Order</td>\n",
       "      <td>32M0ikSpg3bflPutVcVBlK</td>\n",
       "      <td>2011-06-03</td>\n",
       "      <td>30</td>\n",
       "      <td>0.607</td>\n",
       "      <td>0.941</td>\n",
       "      <td>0.731</td>\n",
       "      <td>-5.379</td>\n",
       "    </tr>\n",
       "    <tr>\n",
       "      <th>3</th>\n",
       "      <td>Age Of Consent</td>\n",
       "      <td>Power, Corruption And Lies</td>\n",
       "      <td>New Order</td>\n",
       "      <td>4cctjbKxlDxTzAIpRon5tV</td>\n",
       "      <td>1983-05-02</td>\n",
       "      <td>0</td>\n",
       "      <td>0.361</td>\n",
       "      <td>0.768</td>\n",
       "      <td>0.876</td>\n",
       "      <td>-12.287</td>\n",
       "    </tr>\n",
       "    <tr>\n",
       "      <th>4</th>\n",
       "      <td>True Faith - 2011 Total Version</td>\n",
       "      <td>TOTAL</td>\n",
       "      <td>New Order</td>\n",
       "      <td>0E8IiKUfS98p3cUbQgh3yO</td>\n",
       "      <td>2011-06-03</td>\n",
       "      <td>45</td>\n",
       "      <td>0.611</td>\n",
       "      <td>0.938</td>\n",
       "      <td>0.903</td>\n",
       "      <td>-5.810</td>\n",
       "    </tr>\n",
       "  </tbody>\n",
       "</table>\n",
       "</div>"
      ],
      "text/plain": [
       "                                   name                              album  \\\n",
       "0                           Blue Monday                          Substance   \n",
       "1                 Bizarre Love Triangle  Brotherhood (Collector's Edition)   \n",
       "2  World in Motion - 2011 Total Version                              TOTAL   \n",
       "3                        Age Of Consent         Power, Corruption And Lies   \n",
       "4       True Faith - 2011 Total Version                              TOTAL   \n",
       "\n",
       "      artist                      id release_date  popularity  danceability  \\\n",
       "0  New Order  6hHc7Pks7wtBIW8Z6A0iFq   1987-08-17          73         0.762   \n",
       "1  New Order  6wVViUl2xSRoDK2T7dMZbR   1986-09-29          67         0.613   \n",
       "2  New Order  32M0ikSpg3bflPutVcVBlK   2011-06-03          30         0.607   \n",
       "3  New Order  4cctjbKxlDxTzAIpRon5tV   1983-05-02           0         0.361   \n",
       "4  New Order  0E8IiKUfS98p3cUbQgh3yO   2011-06-03          45         0.611   \n",
       "\n",
       "   energy  valence  loudness  \n",
       "0   0.651    0.941   -13.340  \n",
       "1   0.885    0.919    -7.463  \n",
       "2   0.941    0.731    -5.379  \n",
       "3   0.768    0.876   -12.287  \n",
       "4   0.938    0.903    -5.810  "
      ]
     },
     "execution_count": 4,
     "metadata": {},
     "output_type": "execute_result"
    }
   ],
   "source": [
    "df.head()"
   ]
  },
  {
   "cell_type": "code",
   "execution_count": 5,
   "id": "d0e93bad",
   "metadata": {},
   "outputs": [
    {
     "data": {
      "text/html": [
       "<div>\n",
       "<style scoped>\n",
       "    .dataframe tbody tr th:only-of-type {\n",
       "        vertical-align: middle;\n",
       "    }\n",
       "\n",
       "    .dataframe tbody tr th {\n",
       "        vertical-align: top;\n",
       "    }\n",
       "\n",
       "    .dataframe thead th {\n",
       "        text-align: right;\n",
       "    }\n",
       "</style>\n",
       "<table border=\"1\" class=\"dataframe\">\n",
       "  <thead>\n",
       "    <tr style=\"text-align: right;\">\n",
       "      <th></th>\n",
       "      <th>popularity</th>\n",
       "      <th>danceability</th>\n",
       "      <th>energy</th>\n",
       "      <th>valence</th>\n",
       "      <th>loudness</th>\n",
       "    </tr>\n",
       "  </thead>\n",
       "  <tbody>\n",
       "    <tr>\n",
       "      <th>count</th>\n",
       "      <td>418.000000</td>\n",
       "      <td>418.000000</td>\n",
       "      <td>418.000000</td>\n",
       "      <td>418.000000</td>\n",
       "      <td>418.000000</td>\n",
       "    </tr>\n",
       "    <tr>\n",
       "      <th>mean</th>\n",
       "      <td>40.004785</td>\n",
       "      <td>0.511356</td>\n",
       "      <td>0.611079</td>\n",
       "      <td>0.490061</td>\n",
       "      <td>-8.830854</td>\n",
       "    </tr>\n",
       "    <tr>\n",
       "      <th>std</th>\n",
       "      <td>19.230521</td>\n",
       "      <td>0.148783</td>\n",
       "      <td>0.237347</td>\n",
       "      <td>0.263135</td>\n",
       "      <td>3.324041</td>\n",
       "    </tr>\n",
       "    <tr>\n",
       "      <th>min</th>\n",
       "      <td>0.000000</td>\n",
       "      <td>0.099900</td>\n",
       "      <td>0.082600</td>\n",
       "      <td>0.038300</td>\n",
       "      <td>-28.013000</td>\n",
       "    </tr>\n",
       "    <tr>\n",
       "      <th>25%</th>\n",
       "      <td>28.000000</td>\n",
       "      <td>0.399500</td>\n",
       "      <td>0.421750</td>\n",
       "      <td>0.276750</td>\n",
       "      <td>-11.108250</td>\n",
       "    </tr>\n",
       "    <tr>\n",
       "      <th>50%</th>\n",
       "      <td>42.000000</td>\n",
       "      <td>0.525000</td>\n",
       "      <td>0.638500</td>\n",
       "      <td>0.490000</td>\n",
       "      <td>-8.524000</td>\n",
       "    </tr>\n",
       "    <tr>\n",
       "      <th>75%</th>\n",
       "      <td>54.000000</td>\n",
       "      <td>0.620000</td>\n",
       "      <td>0.816750</td>\n",
       "      <td>0.693000</td>\n",
       "      <td>-6.346500</td>\n",
       "    </tr>\n",
       "    <tr>\n",
       "      <th>max</th>\n",
       "      <td>82.000000</td>\n",
       "      <td>0.942000</td>\n",
       "      <td>0.990000</td>\n",
       "      <td>0.975000</td>\n",
       "      <td>-2.398000</td>\n",
       "    </tr>\n",
       "  </tbody>\n",
       "</table>\n",
       "</div>"
      ],
      "text/plain": [
       "       popularity  danceability      energy     valence    loudness\n",
       "count  418.000000    418.000000  418.000000  418.000000  418.000000\n",
       "mean    40.004785      0.511356    0.611079    0.490061   -8.830854\n",
       "std     19.230521      0.148783    0.237347    0.263135    3.324041\n",
       "min      0.000000      0.099900    0.082600    0.038300  -28.013000\n",
       "25%     28.000000      0.399500    0.421750    0.276750  -11.108250\n",
       "50%     42.000000      0.525000    0.638500    0.490000   -8.524000\n",
       "75%     54.000000      0.620000    0.816750    0.693000   -6.346500\n",
       "max     82.000000      0.942000    0.990000    0.975000   -2.398000"
      ]
     },
     "execution_count": 5,
     "metadata": {},
     "output_type": "execute_result"
    }
   ],
   "source": [
    "df.describe()"
   ]
  },
  {
   "cell_type": "markdown",
   "id": "f1b84ba2",
   "metadata": {},
   "source": [
    "I realized that the songs in my playlists contains different type, that make sense, I like the relaxed songs and also energetic ones. Describing the features above, the data showed me that Valence, Danceability and Energy are about 0.5 in mean value, the max energy is 0.99, seems like I really like tracks with high energy."
   ]
  },
  {
   "cell_type": "code",
   "execution_count": 6,
   "id": "2d48be3b",
   "metadata": {},
   "outputs": [
    {
     "data": {
      "image/png": "[encoded data removed]",
      "text/plain": [
       "<Figure size 1080x576 with 4 Axes>"
      ]
     },
     "metadata": {},
     "output_type": "display_data"
    }
   ],
   "source": [
    "fig,axes = plt.subplots(2,2,figsize=(15,8))\n",
    "\n",
    "axes[0,0].hist(df['danceability'])\n",
    "axes[0,0].set_title('Danceability',fontsize=15)\n",
    "axes[0,1].hist(df['energy'])\n",
    "axes[0,1].set_title('Energy',fontsize=15)\n",
    "axes[1,0].hist(df['valence'])\n",
    "axes[1,0].set_title('Valence',fontsize=15)\n",
    "axes[1,1].hist(df['loudness'])\n",
    "axes[1,1].set_title('Loudness',fontsize=15)\n",
    "plt.show()"
   ]
  },
  {
   "cell_type": "markdown",
   "id": "5cf76cf4",
   "metadata": {},
   "source": [
    "# Part 2. Building the Model"
   ]
  },
  {
   "cell_type": "markdown",
   "id": "f5252cc9",
   "metadata": {},
   "source": [
    "## K-Means Model"
   ]
  },
  {
   "cell_type": "markdown",
   "id": "9d2dc50c",
   "metadata": {},
   "source": [
    "I decided to use K-means Clustering for Unsupervised Machine Learning due to the shape of my data (418 tracks ) and considering I want to create 2 playlists separating Relaxed tracks from Energetic tracks (K=2).\n",
    "Important: I’m not using train and test data because in this case I just want to group all the tracks into 2 different groups to create playlists with the entire data."
   ]
  },
  {
   "cell_type": "markdown",
   "id": "3f4c5afc",
   "metadata": {},
   "source": [
    "For the K-Means, I need to define features and normalize the values of the model. I’ will use MinMaxScaler to preserve the shape of the original distribution and scale the features between a range from 0 to 1. Once I have the values in the correct format, I just simply create the K-Means model and then save the labels into the main Data Frame called “df”."
   ]
  },
  {
   "cell_type": "code",
   "execution_count": 7,
   "id": "1e29947e",
   "metadata": {},
   "outputs": [],
   "source": [
    "from sklearn.cluster import KMeans\n",
    "from sklearn.preprocessing import MinMaxScaler"
   ]
  },
  {
   "cell_type": "code",
   "execution_count": 8,
   "id": "2cc29de5",
   "metadata": {},
   "outputs": [],
   "source": [
    "col_features = df.columns[6:]\n",
    "X = MinMaxScaler().fit_transform(df[col_features])"
   ]
  },
  {
   "cell_type": "code",
   "execution_count": 9,
   "id": "f5117861",
   "metadata": {},
   "outputs": [],
   "source": [
    "kmeans = KMeans(init=\"k-means++\",n_clusters=2,random_state=15).fit(X)"
   ]
  },
  {
   "cell_type": "code",
   "execution_count": 10,
   "id": "86aa1454",
   "metadata": {},
   "outputs": [],
   "source": [
    "df['kmeans'] = kmeans.labels_"
   ]
  },
  {
   "cell_type": "markdown",
   "id": "40005035",
   "metadata": {},
   "source": [
    "I need to study the features of these labels, so I plot the tracks in a 3D Scatter and then I analyze the respective mean of each feature grouping the data frame by the K-Means result labels."
   ]
  },
  {
   "cell_type": "code",
   "execution_count": 11,
   "id": "b652192b",
   "metadata": {},
   "outputs": [
    {
     "data": {
      "text/plain": [
       "Text(0.5, 0.92, '3D Scatter Plot of Songs Clustered')"
      ]
     },
     "execution_count": 11,
     "metadata": {},
     "output_type": "execute_result"
    },
    {
     "data": {
      "image/png": "[encoded data removed]",
      "text/plain": [
       "<Figure size 720x576 with 1 Axes>"
      ]
     },
     "metadata": {},
     "output_type": "display_data"
    }
   ],
   "source": [
    "fig = plt.figure(figsize=(10,8))\n",
    "ax = fig.add_subplot(111,projection='3d')\n",
    "\n",
    "x = df['energy']\n",
    "y = df['danceability']\n",
    "z = df['loudness']\n",
    "cmhot = cmhot = plt.get_cmap('bwr')\n",
    "\n",
    "ax.scatter(x,y,z,c=df['kmeans'],s=40,cmap=cmhot)\n",
    "ax.set_xlabel('Energy',fontsize=12)\n",
    "ax.set_ylabel('Danceability',fontsize=12)\n",
    "ax.set_zlabel('Loudness',fontsize=12)\n",
    "ax.set_title(\"3D Scatter Plot of Songs Clustered\")"
   ]
  },
  {
   "cell_type": "code",
   "execution_count": 12,
   "id": "8bbefde6",
   "metadata": {},
   "outputs": [
    {
     "data": {
      "text/html": [
       "<div>\n",
       "<style scoped>\n",
       "    .dataframe tbody tr th:only-of-type {\n",
       "        vertical-align: middle;\n",
       "    }\n",
       "\n",
       "    .dataframe tbody tr th {\n",
       "        vertical-align: top;\n",
       "    }\n",
       "\n",
       "    .dataframe thead th {\n",
       "        text-align: right;\n",
       "    }\n",
       "</style>\n",
       "<table border=\"1\" class=\"dataframe\">\n",
       "  <thead>\n",
       "    <tr style=\"text-align: right;\">\n",
       "      <th></th>\n",
       "      <th>popularity</th>\n",
       "      <th>danceability</th>\n",
       "      <th>energy</th>\n",
       "      <th>valence</th>\n",
       "      <th>loudness</th>\n",
       "    </tr>\n",
       "    <tr>\n",
       "      <th>kmeans</th>\n",
       "      <th></th>\n",
       "      <th></th>\n",
       "      <th></th>\n",
       "      <th></th>\n",
       "      <th></th>\n",
       "    </tr>\n",
       "  </thead>\n",
       "  <tbody>\n",
       "    <tr>\n",
       "      <th>0</th>\n",
       "      <td>39.733333</td>\n",
       "      <td>0.564418</td>\n",
       "      <td>0.756391</td>\n",
       "      <td>0.678960</td>\n",
       "      <td>-7.705444</td>\n",
       "    </tr>\n",
       "    <tr>\n",
       "      <th>1</th>\n",
       "      <td>40.321244</td>\n",
       "      <td>0.449497</td>\n",
       "      <td>0.441674</td>\n",
       "      <td>0.269841</td>\n",
       "      <td>-10.142860</td>\n",
       "    </tr>\n",
       "  </tbody>\n",
       "</table>\n",
       "</div>"
      ],
      "text/plain": [
       "        popularity  danceability    energy   valence   loudness\n",
       "kmeans                                                         \n",
       "0        39.733333      0.564418  0.756391  0.678960  -7.705444\n",
       "1        40.321244      0.449497  0.441674  0.269841 -10.142860"
      ]
     },
     "execution_count": 12,
     "metadata": {},
     "output_type": "execute_result"
    }
   ],
   "source": [
    "df.groupby(['kmeans']).mean()"
   ]
  },
  {
   "cell_type": "markdown",
   "id": "9b4ecd36",
   "metadata": {},
   "source": [
    "As I noticed on the graph the values are quite well grouped, blue values are located in label 0 and red values in label 1. Looking at the table of means, the label 0 grouped tracks with little more danceability, more energy, more valence, more loudness, so this one corresponds to Energetic songs, likewise, the label 1 has the Relaxed songs."
   ]
  },
  {
   "cell_type": "code",
   "execution_count": 13,
   "id": "0b1bd0e7",
   "metadata": {},
   "outputs": [],
   "source": [
    "cluster_0 = df[df['kmeans']==0]\n",
    "cluster_1  = df[df['kmeans']==1]"
   ]
  },
  {
   "cell_type": "code",
   "execution_count": 14,
   "id": "8deced6a",
   "metadata": {},
   "outputs": [],
   "source": [
    "cluster_0.to_csv(\"data/cluster0.csv\",index=False)\n",
    "cluster_1.to_csv(\"data/cluster1.csv\",index=False)\n",
    "df.to_csv(\"data/df.csv\",index=False)"
   ]
  },
  {
   "cell_type": "markdown",
   "id": "cc384660",
   "metadata": {},
   "source": [
    "# Create New Customized Playlists for two Cluster"
   ]
  },
  {
   "cell_type": "code",
   "execution_count": 5,
   "id": "2bad4d6a",
   "metadata": {},
   "outputs": [],
   "source": [
    "import spotipy\n",
    "from spotipy import SpotifyClientCredentials, util\n",
    "import pandas as pd"
   ]
  },
  {
   "cell_type": "code",
   "execution_count": 6,
   "id": "2243592a",
   "metadata": {},
   "outputs": [],
   "source": [
    "client_id='my_client_id'\n",
    "client_secret='my_client_secret'\n",
    "redirect_uri='my_redirect_uri'\n",
    "username = 'my_username'\n",
    "scope_playlist = 'playlist-modify-public'\n",
    "scope_user = 'user-library-modify'\n",
    "scope_playing = 'user-read-currently-playing'\n",
    "\n",
    "#Credentials to access the Spotify Music Data\n",
    "manager = SpotifyClientCredentials(client_id,client_secret)\n",
    "sp = spotipy.Spotify(client_credentials_manager=manager)\n",
    "\n",
    "#Credentials to access the actual song played\n",
    "token_actual = util.prompt_for_user_token(username,scope_playing,client_id,client_secret,redirect_uri) \n",
    "sp_actual = spotipy.Spotify(auth=token_actual)\n",
    "\n",
    "#Credentiasl to acces the library music \n",
    "token_user= util.prompt_for_user_token(username,scope_user,client_id,client_secret,redirect_uri) \n",
    "sp_user = spotipy.Spotify(auth=token_user)\n",
    "\n",
    "#Credentiasl to acces the Playlists Music\n",
    "token_playlist= util.prompt_for_user_token(username,scope_playlist,client_id,client_secret,redirect_uri) \n",
    "sp_playlist = spotipy.Spotify(auth=token_playlist)"
   ]
  },
  {
   "cell_type": "code",
   "execution_count": 11,
   "id": "8600cb3d",
   "metadata": {},
   "outputs": [],
   "source": [
    "cluster_0 = pd.read_csv(\"data/cluster0.csv\")\n",
    "cluster_1 = pd.read_csv(\"data/cluster1.csv\")\n",
    "ids_0 = cluster_0['id'].tolist()\n",
    "ids_1 = cluster_1['id'].tolist()\n"
   ]
  },
  {
   "cell_type": "code",
   "execution_count": 8,
   "id": "8d385996",
   "metadata": {},
   "outputs": [],
   "source": [
    "ids_0_2 = ids_0[:100]\n",
    "ids_0_3 = ids_0[100:200]\n",
    "ids_0_4 = ids_0[200:]\n",
    "\n",
    "ids_1_2 = ids_1[:100]\n",
    "ids_1_3 = ids_1[100:]"
   ]
  },
  {
   "cell_type": "code",
   "execution_count": 12,
   "id": "e7b22f90",
   "metadata": {},
   "outputs": [],
   "source": [
    "Playlist_energy = sp_playlist.user_playlist_create(username,\"Energy :)\")\n",
    "Playlist_relaxed = sp_playlist.user_playlist_create(username,\"Relaxed :(\")"
   ]
  },
  {
   "cell_type": "code",
   "execution_count": 13,
   "id": "5d112a0d",
   "metadata": {},
   "outputs": [
    {
     "data": {
      "text/plain": [
       "{'snapshot_id': 'MywyNWYzZDJhYTcwYzI3ZmQ4NTQxNzNjN2NiZDhlMWVlMjc5MTA0Mzc4'}"
      ]
     },
     "execution_count": 13,
     "metadata": {},
     "output_type": "execute_result"
    }
   ],
   "source": [
    "#create playlist for Energy\n",
    "sp_playlist.user_playlist_add_tracks(username,'6uulD4iMmRS7bUq0Qu8LWr',ids_0_2)\n",
    "sp_playlist.user_playlist_add_tracks(username,'6uulD4iMmRS7bUq0Qu8LWr',ids_0_3)\n",
    "sp_playlist.user_playlist_add_tracks(username,'6uulD4iMmRS7bUq0Qu8LWr',ids_0_4)\n",
    "#create playlist for relax\n",
    "sp_playlist.user_playlist_add_tracks(username,'7wM7lDruWDPw1ZsKAZ98lJ',ids_1_2)\n",
    "sp_playlist.user_playlist_add_tracks(username,'7wM7lDruWDPw1ZsKAZ98lJ',ids_1_3)"
   ]
  },
  {
   "attachments": {
    "image.png": {
     "image/png": "[encoded data removed]"
    }
   },
   "cell_type": "markdown",
   "id": "1c0a7e65",
   "metadata": {},
   "source": [
    "![image.png](attachment:image.png)"
   ]
  }
 ],
 "metadata": {
  "kernelspec": {
   "display_name": "Python 3",
   "language": "python",
   "name": "python3"
  },
  "language_info": {
   "codemirror_mode": {
    "name": "ipython",
    "version": 3
   },
   "file_extension": ".py",
   "mimetype": "text/x-python",
   "name": "python",
   "nbconvert_exporter": "python",
   "pygments_lexer": "ipython3",
   "version": "3.7.10"
  }
 },
 "nbformat": 4,
 "nbformat_minor": 5
}
